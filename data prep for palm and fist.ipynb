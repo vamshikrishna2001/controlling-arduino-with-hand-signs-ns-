{
 "cells": [
  {
   "cell_type": "code",
   "execution_count": 1,
   "metadata": {},
   "outputs": [],
   "source": [
    "import os\n",
    "from PIL import Image\n",
    "from IPython.display import display"
   ]
  },
  {
   "cell_type": "code",
   "execution_count": 2,
   "metadata": {},
   "outputs": [],
   "source": [
    "path = \"P:\\\\tech\\\\datasets\\\\fingers\\\\test\\\\\""
   ]
  },
  {
   "cell_type": "code",
   "execution_count": 3,
   "metadata": {},
   "outputs": [],
   "source": [
    "temp = []\n",
    "for folders,subfolders,filenames in os.walk(path):\n",
    "    for img in filenames:\n",
    "        temp.append(img)"
   ]
  },
  {
   "cell_type": "code",
   "execution_count": 4,
   "metadata": {},
   "outputs": [
    {
     "data": {
      "text/plain": [
       "'1'"
      ]
     },
     "execution_count": 4,
     "metadata": {},
     "output_type": "execute_result"
    }
   ],
   "source": [
    "temp[300][len(temp[0])-6:len(temp[0])-5]"
   ]
  },
  {
   "cell_type": "code",
   "execution_count": 5,
   "metadata": {},
   "outputs": [],
   "source": [
    "import shutil"
   ]
  },
  {
   "cell_type": "code",
   "execution_count": 6,
   "metadata": {},
   "outputs": [],
   "source": [
    "for i in range(len(temp)):\n",
    "    if temp[i][len(temp[0])-6:len(temp[0])-5] == '0':\n",
    "        shutil.copy(path + temp[i],'P:\\\\tech\\\\datasets\\\\Finger count\\\\test\\\\0')\n",
    "        \n",
    "    if temp[i][len(temp[0])-6:len(temp[0])-5] == '1':\n",
    "        shutil.copy(path + temp[i],'P:\\\\tech\\\\datasets\\\\Finger count\\\\test\\\\1')\n",
    "        \n",
    "    if temp[i][len(temp[0])-6:len(temp[0])-5] == '2':\n",
    "        shutil.copy(path + temp[i],'P:\\\\tech\\\\datasets\\\\Finger count\\\\test\\\\2') \n",
    "        \n",
    "    if temp[i][len(temp[0])-6:len(temp[0])-5] == '3':\n",
    "        shutil.copy(path + temp[i],'P:\\\\tech\\\\datasets\\\\Finger count\\\\test\\\\3')\n",
    "        \n",
    "    if temp[i][len(temp[0])-6:len(temp[0])-5] == '4':\n",
    "        shutil.copy(path + temp[i],'P:\\\\tech\\\\datasets\\\\Finger count\\\\test\\\\4')\n",
    "        \n",
    "    if temp[i][len(temp[0])-6:len(temp[0])-5] == '5':\n",
    "        shutil.copy(path + temp[i],'P:\\\\tech\\\\datasets\\\\Finger count\\\\test\\\\5')     \n",
    "    "
   ]
  },
  {
   "cell_type": "code",
   "execution_count": 7,
   "metadata": {},
   "outputs": [],
   "source": [
    "c = path + temp[0]"
   ]
  },
  {
   "cell_type": "code",
   "execution_count": 8,
   "metadata": {},
   "outputs": [
    {
     "data": {
      "text/plain": [
       "'P:\\\\tech\\\\datasets\\\\fingers\\\\test\\\\000e7aa6-100b-4c6b-9ff0-e7a8e53e4465_5L.png'"
      ]
     },
     "execution_count": 8,
     "metadata": {},
     "output_type": "execute_result"
    }
   ],
   "source": [
    "c"
   ]
  },
  {
   "cell_type": "code",
   "execution_count": 9,
   "metadata": {},
   "outputs": [],
   "source": [
    "im = Image.open(c)"
   ]
  },
  {
   "cell_type": "code",
   "execution_count": 10,
   "metadata": {},
   "outputs": [
    {
     "data": {
      "image/png": "[encoded data removed]",
      "text/plain": [
       "<PIL.PngImagePlugin.PngImageFile image mode=L size=128x128 at 0x1A46DCF7248>"
      ]
     },
     "execution_count": 10,
     "metadata": {},
     "output_type": "execute_result"
    }
   ],
   "source": [
    "im"
   ]
  },
  {
   "cell_type": "code",
   "execution_count": null,
   "metadata": {},
   "outputs": [],
   "source": []
  }
 ],
 "metadata": {
  "kernelspec": {
   "display_name": "Python 3",
   "language": "python",
   "name": "python3"
  },
  "language_info": {
   "codemirror_mode": {
    "name": "ipython",
    "version": 3
   },
   "file_extension": ".py",
   "mimetype": "text/x-python",
   "name": "python",
   "nbconvert_exporter": "python",
   "pygments_lexer": "ipython3",
   "version": "3.7.7"
  }
 },
 "nbformat": 4,
 "nbformat_minor": 4
}
